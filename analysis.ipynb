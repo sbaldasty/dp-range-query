{
 "cells": [
  {
   "cell_type": "code",
   "execution_count": 9,
   "metadata": {},
   "outputs": [],
   "source": [
    "import pandas as pd\n",
    "import matplotlib.pyplot as plt\n",
    "import numpy as np"
   ]
  },
  {
   "cell_type": "code",
   "execution_count": 5,
   "metadata": {},
   "outputs": [],
   "source": [
    "# TODO Take the dash out of the name to avoid this hackery\n",
    "import importlib  \n",
    "rq = importlib.import_module(\"range-query\")"
   ]
  },
  {
   "cell_type": "code",
   "execution_count": 6,
   "metadata": {},
   "outputs": [],
   "source": [
    "adult = pd.read_csv('https://github.com/jnear/cs3110-data-privacy/raw/main/homework/adult_with_pii.csv')"
   ]
  },
  {
   "cell_type": "code",
   "execution_count": 8,
   "metadata": {},
   "outputs": [],
   "source": [
    "lst = rq.build_tree(0, 100)\n",
    "df = adult['Age']\n",
    "tree=rq.counts(lst,df)\n",
    "noisy_tree = rq.noisy_counts(tree, 1.0)"
   ]
  },
  {
   "cell_type": "code",
   "execution_count": 10,
   "metadata": {},
   "outputs": [],
   "source": [
    "def create_workload(low: int, high: int, n: int) -> list[(int, int)]:\n",
    "    result = []\n",
    "    for _ in range(n):\n",
    "        a = np.random.randint(low, high)\n",
    "        result.append((a, np.random.randint(a, high)))\n",
    "\n",
    "    return result"
   ]
  },
  {
   "cell_type": "code",
   "execution_count": null,
   "metadata": {},
   "outputs": [],
   "source": [
    "def control_query(series: pd.Series, a: int, b: int, epsilon: float) -> int:\n",
    "    np.sum(series)"
   ]
  },
  {
   "cell_type": "code",
   "execution_count": 11,
   "metadata": {},
   "outputs": [
    {
     "data": {
      "text/plain": [
       "[(83, 83),\n",
       " (82, 91),\n",
       " (51, 89),\n",
       " (64, 66),\n",
       " (48, 71),\n",
       " (89, 98),\n",
       " (1, 93),\n",
       " (64, 80),\n",
       " (29, 87),\n",
       " (48, 57),\n",
       " (67, 75),\n",
       " (31, 46),\n",
       " (33, 52),\n",
       " (7, 80),\n",
       " (79, 92),\n",
       " (66, 87),\n",
       " (66, 77),\n",
       " (95, 99),\n",
       " (34, 80),\n",
       " (99, 99),\n",
       " (69, 69),\n",
       " (26, 57),\n",
       " (13, 72),\n",
       " (55, 59),\n",
       " (45, 60),\n",
       " (55, 70),\n",
       " (28, 46),\n",
       " (68, 81),\n",
       " (74, 90),\n",
       " (24, 62),\n",
       " (87, 96),\n",
       " (46, 75),\n",
       " (51, 96),\n",
       " (5, 23),\n",
       " (92, 96),\n",
       " (80, 95),\n",
       " (85, 85),\n",
       " (99, 99),\n",
       " (2, 56),\n",
       " (53, 97),\n",
       " (65, 84),\n",
       " (31, 83),\n",
       " (77, 92),\n",
       " (82, 91),\n",
       " (41, 54),\n",
       " (93, 95),\n",
       " (36, 38),\n",
       " (6, 67),\n",
       " (49, 95),\n",
       " (52, 90)]"
      ]
     },
     "execution_count": 11,
     "metadata": {},
     "output_type": "execute_result"
    }
   ],
   "source": [
    "create_workload(0, 100, 50)"
   ]
  },
  {
   "cell_type": "code",
   "execution_count": null,
   "metadata": {},
   "outputs": [],
   "source": []
  }
 ],
 "metadata": {
  "kernelspec": {
   "display_name": ".venv",
   "language": "python",
   "name": "python3"
  },
  "language_info": {
   "codemirror_mode": {
    "name": "ipython",
    "version": 3
   },
   "file_extension": ".py",
   "mimetype": "text/x-python",
   "name": "python",
   "nbconvert_exporter": "python",
   "pygments_lexer": "ipython3",
   "version": "3.11.4"
  }
 },
 "nbformat": 4,
 "nbformat_minor": 2
}
