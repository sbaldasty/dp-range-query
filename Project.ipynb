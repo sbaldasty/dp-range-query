{
 "cells": [
  {
   "cell_type": "markdown",
   "id": "9398fa36-eb83-47a7-8a0c-d1e328f368b0",
   "metadata": {},
   "source": [
    "# CS 5110: Advanced Data Privacy Project\n",
    "## Hierarchical solutions for answering range queries\n",
    "### By: Steven Omar Rachael"
   ]
  },
  {
   "cell_type": "markdown",
   "id": "e1652920-6834-467c-a913-b37aee78e083",
   "metadata": {},
   "source": [
    "Module import"
   ]
  },
  {
   "cell_type": "code",
   "execution_count": 4,
   "id": "a6fc5290-1b5e-4911-a3b6-e7c8bb4a4213",
   "metadata": {},
   "outputs": [],
   "source": [
    "import pandas as pd\n",
    "import numpy as np\n",
    "import matplotlib.pyplot as plt"
   ]
  },
  {
   "cell_type": "markdown",
   "id": "92c28ef4-f439-4688-8791-932707908b45",
   "metadata": {},
   "source": [
    "Functions Definitions"
   ]
  },
  {
   "cell_type": "code",
   "execution_count": 5,
   "id": "487a8840-584b-49bd-b5a3-293fad205447",
   "metadata": {},
   "outputs": [],
   "source": [
    "def laplace_mech(v, sensitivity, epsilon):\n",
    "    return v + np.random.laplace(loc=0, scale=sensitivity / epsilon)\n",
    "\n",
    "def gaussian_mech(v, sensitivity, epsilon, delta):\n",
    "    return v + np.random.normal(loc=0, scale=sensitivity * np.sqrt(2*np.log(1.25/delta)) / epsilon)\n",
    "\n",
    "def gaussian_mech_vec(vec, sensitivity, epsilon, delta):\n",
    "    return [v + np.random.normal(loc=0, scale=sensitivity * np.sqrt(2*np.log(1.25/delta)) / epsilon)\n",
    "            for v in vec]\n",
    "\n",
    "def pct_error(orig, priv):\n",
    "    return np.abs(orig - priv)/orig * 100.0"
   ]
  },
  {
   "cell_type": "markdown",
   "id": "33a48751-24cf-4686-b56b-7e7a98dd0a79",
   "metadata": {},
   "source": [
    "Loading the Dataset"
   ]
  },
  {
   "cell_type": "code",
   "execution_count": 10,
   "id": "8022a0bf-be60-4710-88de-06ed323ea4d6",
   "metadata": {},
   "outputs": [],
   "source": [
    "adult = pd.read_csv('https://github.com/jnear/cs3110-data-privacy/raw/main/homework/adult_with_pii.csv')"
   ]
  }
 ],
 "metadata": {
  "kernelspec": {
   "display_name": "Python 3 (ipykernel)",
   "language": "python",
   "name": "python3"
  },
  "language_info": {
   "codemirror_mode": {
    "name": "ipython",
    "version": 3
   },
   "file_extension": ".py",
   "mimetype": "text/x-python",
   "name": "python",
   "nbconvert_exporter": "python",
   "pygments_lexer": "ipython3",
   "version": "3.11.6"
  }
 },
 "nbformat": 4,
 "nbformat_minor": 5
}
